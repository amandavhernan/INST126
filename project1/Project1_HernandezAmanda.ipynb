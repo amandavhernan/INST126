{
 "cells": [
  {
   "cell_type": "code",
   "execution_count": null,
   "metadata": {},
   "outputs": [
    {
     "name": "stdout",
     "output_type": "stream",
     "text": [
      "Select an operation to perform (1-8): \n",
      "1. Add\n",
      "2. Subtract\n",
      "3. Multiply\n",
      "4. Divide\n",
      "5. Square Root\n",
      "6. Raise to the Power of 2\n",
      "7. Raise to the Power of 3\n",
      "8. Take the natural logarithm\n"
     ]
    }
   ],
   "source": [
    "import math \n",
    "\n",
    "# this program makes a calculator that can add, subtract, multiply, divide, take the square root of a number, raise a number to the power of 2 or 3, and take the natural log of any number.\n",
    "\n",
    "check = True\n",
    "while(check != False): \n",
    "\n",
    "    print(\"Select an operation to perform (1-8): \")\n",
    "    print(\"1. Add\")\n",
    "    print(\"2. Subtract\")\n",
    "    print(\"3. Multiply\")\n",
    "    print(\"4. Divide\")\n",
    "    print(\"5. Square Root\")\n",
    "    print(\"6. Raise to the Power of 2\")\n",
    "    print(\"7. Raise to the Power of 3\")\n",
    "    print(\"8. Take the natural logarithm\")\n",
    "\n",
    "    operation = input()\n",
    "\n",
    "    if operation == \"1\":\n",
    "    # perform addition\n",
    "        num1 = input(\"Enter first number: \")\n",
    "        num2 = input(\"Enter second number: \")\n",
    "        print(\"The sum is \" + str(int(num1) + int(num2)))\n",
    "\n",
    "    elif operation == \"2\": \n",
    "    # perform subtraction\n",
    "        num1 = input(\"Enter first number: \")\n",
    "        num2 = input(\"Enter second number: \")\n",
    "        print(\"The difference is \" + str(int(num1) - int(num2)))\n",
    "\n",
    "    elif operation == \"3\":\n",
    "    # perform multiplication\n",
    "        num1 = input(\"Enter first number: \")\n",
    "        num2 = input(\"Enter second number: \")\n",
    "        print(\"The product is \" + str(int(num1) * int(num2)))\n",
    "\n",
    "    elif operation == \"4\": \n",
    "    # perform division\n",
    "        num1 = input(\"Enter first number: \")\n",
    "        num2 = input(\"Enter second number: \")\n",
    "        print(\"The result is \" + str(int(num1) / int(num2)))\n",
    "\n",
    "    elif operation == \"5\": \n",
    "    # perform square root\n",
    "        num = int(input(\"Enter number: \"))\n",
    "        print(\"The square root is \" + str(math.sqrt(num)))\n",
    "\n",
    "    elif operation == \"6\": \n",
    "    # perform raise to the power of 2\n",
    "        num = int(input(\"Enter number: \"))\n",
    "        print(\"The result is \" + str(pow(num, 2)))\n",
    "        \n",
    "    elif operation == \"7\": \n",
    "    # perform raise to the power of 3\n",
    "        num = int(input(\"Enter number: \"))\n",
    "        print(\"The result is \" + str(pow(num, 3)))\n",
    "        \n",
    "    elif operation == \"8\": \n",
    "    # perform to take the natural log of a number\n",
    "        num = int(input(\"Enter number: \"))\n",
    "        print(\"The result is \" + str(math.log(num)))\n",
    "    \n",
    "    elif operation == \"quit\": \n",
    "        check = False\n",
    "\n",
    "    else:\n",
    "        print(\"Invalid Entry. Please enter a value between 1-8 to choose an operation.\")\n"
   ]
  },
  {
   "cell_type": "code",
   "execution_count": null,
   "metadata": {},
   "outputs": [],
   "source": []
  },
  {
   "cell_type": "code",
   "execution_count": null,
   "metadata": {},
   "outputs": [],
   "source": []
  }
 ],
 "metadata": {
  "kernelspec": {
   "display_name": "Python 3",
   "language": "python",
   "name": "python3"
  },
  "language_info": {
   "codemirror_mode": {
    "name": "ipython",
    "version": 3
   },
   "file_extension": ".py",
   "mimetype": "text/x-python",
   "name": "python",
   "nbconvert_exporter": "python",
   "pygments_lexer": "ipython3",
   "version": "3.8.5"
  }
 },
 "nbformat": 4,
 "nbformat_minor": 4
}
